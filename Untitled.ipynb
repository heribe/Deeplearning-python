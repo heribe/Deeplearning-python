{
 "cells": [
  {
   "cell_type": "code",
   "execution_count": 12,
   "metadata": {},
   "outputs": [
    {
     "name": "stdout",
     "output_type": "stream",
     "text": [
      "[[ 1  9]\n",
      " [ 2  0]\n",
      " [ 3 10]\n",
      " [ 4 11]\n",
      " [ 5 12]\n",
      " [ 6 13]\n",
      " [ 7 14]\n",
      " [ 8 15]]\n"
     ]
    }
   ],
   "source": [
    "import numpy as np\n",
    "a = np.array([[1,2,3,4,5,6,7,8,9,0,10,11,12,13,14,15]])\n",
    "#print(a)\n",
    "a = a.reshape(2,2,2,2)\n",
    "#print(a)\n",
    "a = a.reshape(a.shape[0],-1).T\n",
    "print(a)"
   ]
  }
 ],
 "metadata": {
  "kernelspec": {
   "display_name": "Python 3",
   "language": "python",
   "name": "python3"
  },
  "language_info": {
   "codemirror_mode": {
    "name": "ipython",
    "version": 3
   },
   "file_extension": ".py",
   "mimetype": "text/x-python",
   "name": "python",
   "nbconvert_exporter": "python",
   "pygments_lexer": "ipython3",
   "version": "3.6.2"
  }
 },
 "nbformat": 4,
 "nbformat_minor": 2
}
